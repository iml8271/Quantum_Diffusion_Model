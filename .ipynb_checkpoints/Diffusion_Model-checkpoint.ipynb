{
 "cells": [
  {
   "cell_type": "code",
   "execution_count": 1,
   "id": "a0b5dee2-ad27-4a01-b2cc-51cf60ad51d9",
   "metadata": {},
   "outputs": [],
   "source": [
    "import pandas as pd \n",
    "from qiskit import QuantumCircuit\n",
    "import matplotlib"
   ]
  },
  {
   "cell_type": "code",
   "execution_count": null,
   "id": "0eb80fa9-81f3-476d-abf5-ba7d55066dcc",
   "metadata": {},
   "outputs": [],
   "source": []
  }
 ],
 "metadata": {
  "kernelspec": {
   "display_name": "Python 3.11 [Qiskit 1.3.2]",
   "language": "python",
   "name": "python3_qiskit_zwiuwv"
  },
  "language_info": {
   "codemirror_mode": {
    "name": "ipython",
    "version": 3
   },
   "file_extension": ".py",
   "mimetype": "text/x-python",
   "name": "python",
   "nbconvert_exporter": "python",
   "pygments_lexer": "ipython3",
   "version": "3.11.9"
  }
 },
 "nbformat": 4,
 "nbformat_minor": 5
}
