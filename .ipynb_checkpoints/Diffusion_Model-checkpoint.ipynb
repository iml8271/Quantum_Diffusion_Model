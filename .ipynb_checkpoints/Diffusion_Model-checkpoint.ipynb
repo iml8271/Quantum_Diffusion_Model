{
 "cells": [
  {
   "cell_type": "code",
   "execution_count": 1,
   "id": "a0b5dee2-ad27-4a01-b2cc-51cf60ad51d9",
   "metadata": {},
   "outputs": [],
   "source": [
    "import pandas as pd \n",
    "from qiskit import QuantumCircuit\n",
    "import matplotlib"
   ]
  },
  {
   "cell_type": "code",
   "execution_count": 2,
   "id": "0eb80fa9-81f3-476d-abf5-ba7d55066dcc",
   "metadata": {},
   "outputs": [
    {
     "data": {
      "text/plain": [
       "[Qubit(QuantumRegister(2, 'q'), 0), Qubit(QuantumRegister(2, 'q'), 1)]"
      ]
     },
     "execution_count": 2,
     "metadata": {},
     "output_type": "execute_result"
    }
   ],
   "source": [
    "##Dis the basemodel\n",
    "\n",
    "qc = QuantumCircuit(2)\n",
    "qc.qubits"
   ]
  },
  {
   "cell_type": "code",
   "execution_count": 1,
   "id": "d786bb59-2302-4d6f-94f7-e11ccccda837",
   "metadata": {},
   "outputs": [],
   "source": [
    "# holy moly qbraid is working, 3.9/5 GB - Abbie 3/26/25 4:44 pm"
   ]
  },
  {
   "cell_type": "code",
   "execution_count": null,
   "id": "0a9583d1-c061-47b4-8d65-8aad19bc615f",
   "metadata": {},
   "outputs": [],
   "source": []
  }
 ],
 "metadata": {
  "kernelspec": {
   "display_name": "Python 3.11 [Qiskit 1.3.2]",
   "language": "python",
   "name": "python3_qiskit_zwiuwv"
  },
  "language_info": {
   "codemirror_mode": {
    "name": "ipython",
    "version": 3
   },
   "file_extension": ".py",
   "mimetype": "text/x-python",
   "name": "python",
   "nbconvert_exporter": "python",
   "pygments_lexer": "ipython3",
   "version": "3.11.9"
  }
 },
 "nbformat": 4,
 "nbformat_minor": 5
}
