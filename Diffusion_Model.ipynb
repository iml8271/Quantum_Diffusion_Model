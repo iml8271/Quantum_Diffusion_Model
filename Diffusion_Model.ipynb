{
 "cells": [
  {
   "cell_type": "code",
   "execution_count": 11,
   "id": "a0b5dee2-ad27-4a01-b2cc-51cf60ad51d9",
   "metadata": {},
   "outputs": [],
   "source": [
    "import pandas as pd \n",
    "from qiskit import QuantumCircuit\n",
    "import matplotlib\n",
    "import pennylane as mod"
   ]
  },
  {
   "cell_type": "code",
   "execution_count": 14,
   "id": "0eb80fa9-81f3-476d-abf5-ba7d55066dcc",
   "metadata": {},
   "outputs": [],
   "source": [
    "# Constants\n",
    "\n",
    "# Number of Qubits we will use, depends on how many photos we will use and stuff\n",
    "n_qubits = 4\n",
    "\n",
    "# Number of layers we will use to train the model\n",
    "n_layers = 2\n",
    "\n",
    "device = mod.device(\"default.qubit\", wires = n_qubits)"
   ]
  },
  {
   "cell_type": "code",
   "execution_count": null,
   "id": "d786bb59-2302-4d6f-94f7-e11ccccda837",
   "metadata": {},
   "outputs": [],
   "source": [
    "#"
   ]
  }
 ],
 "metadata": {
  "kernelspec": {
   "display_name": "Python 3.11 [Qiskit 1.3.2]",
   "language": "python",
   "name": "python3_qiskit_zwiuwv"
  },
  "language_info": {
   "codemirror_mode": {
    "name": "ipython",
    "version": 3
   },
   "file_extension": ".py",
   "mimetype": "text/x-python",
   "name": "python",
   "nbconvert_exporter": "python",
   "pygments_lexer": "ipython3",
   "version": "3.11.9"
  }
 },
 "nbformat": 4,
 "nbformat_minor": 5
}
