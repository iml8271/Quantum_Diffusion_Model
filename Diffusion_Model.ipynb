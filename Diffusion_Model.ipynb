{
 "cells": [
  {
   "cell_type": "code",
   "execution_count": 16,
   "id": "a0b5dee2-ad27-4a01-b2cc-51cf60ad51d9",
   "metadata": {},
   "outputs": [],
   "source": [
    "import pandas as pd \n",
    "from qiskit import QuantumCircuit\n",
    "import matplotlib.pyplot as plt\n",
    "import pennylane as mod"
   ]
  },
  {
   "cell_type": "code",
   "execution_count": 14,
   "id": "0eb80fa9-81f3-476d-abf5-ba7d55066dcc",
   "metadata": {},
   "outputs": [],
   "source": [
    "# Constants/parameters\n",
    "\n",
    "# Number of Qubits we will use, depends on how many photos we will use and stuff\n",
    "n_qubits = 8\n",
    "\n",
    "# Number of layers we will use to train the model\n",
    "n_layers = 3\n",
    "\n",
    "# Patches: Images will be broken into 4x4 patches; Each image will have 16patches for all 256 pixels\n",
    "n_patch_size = 4 \n",
    "n_patches = 16\n",
    "\n",
    "device = mod.device(\"default.qubit\", wires = n_qubits)"
   ]
  },
  {
   "cell_type": "code",
   "execution_count": 15,
   "id": "d786bb59-2302-4d6f-94f7-e11ccccda837",
   "metadata": {},
   "outputs": [
    {
     "ename": "SyntaxError",
     "evalue": "incomplete input (3118800269.py, line 4)",
     "output_type": "error",
     "traceback": [
      "\u001b[0;36m  Cell \u001b[0;32mIn[15], line 4\u001b[0;36m\u001b[0m\n\u001b[0;31m    \u001b[0m\n\u001b[0m    ^\u001b[0m\n\u001b[0;31mSyntaxError\u001b[0m\u001b[0;31m:\u001b[0m incomplete input\n"
     ]
    }
   ],
   "source": [
    "# Variational Circuit\n",
    "#hi mi llama Abbie\n",
    "\n",
    "@mod.qnode(dev)\n",
    "def variational_Circuit(inputs, weights):\n",
    "    \n"
   ]
  },
  {
   "cell_type": "code",
   "execution_count": null,
   "id": "eec76553-2ee4-4c19-9fb8-8eefb39a0a25",
   "metadata": {},
   "outputs": [],
   "source": []
  }
 ],
 "metadata": {
  "kernelspec": {
   "display_name": "Python 3.11 [Qiskit 1.3.2]",
   "language": "python",
   "name": "python3_qiskit_zwiuwv"
  },
  "language_info": {
   "codemirror_mode": {
    "name": "ipython",
    "version": 3
   },
   "file_extension": ".py",
   "mimetype": "text/x-python",
   "name": "python",
   "nbconvert_exporter": "python",
   "pygments_lexer": "ipython3",
   "version": "3.11.9"
  }
 },
 "nbformat": 4,
 "nbformat_minor": 5
}
